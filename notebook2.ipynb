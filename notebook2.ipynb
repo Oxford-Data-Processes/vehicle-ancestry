{
 "cells": [
  {
   "cell_type": "code",
   "execution_count": 1,
   "metadata": {},
   "outputs": [
    {
     "name": "stdout",
     "output_type": "stream",
     "text": [
      "Page 1\n",
      "Page 2\n",
      "Page 3\n",
      "Page 4\n",
      "Page 5\n",
      "Page 6\n",
      "Page 7\n",
      "Page 8\n",
      "Page 9\n",
      "Page 10\n",
      "Page 11\n",
      "Page 12\n"
     ]
    }
   ],
   "source": [
    "import pdfplumber\n",
    "import pandas as pd\n",
    "\n",
    "# Path to the PDF file\n",
    "pdf_path = 'pdfs/Bedford.pdf'\n",
    "\n",
    "# Open the PDF file\n",
    "with pdfplumber.open(pdf_path) as pdf:\n",
    "    # Initialize an empty list to store the extracted data\n",
    "    data = []\n",
    "    # Iterate through each page\n",
    "    for page_num, page in enumerate(pdf.pages):\n",
    "        print(f\"Page {page_num + 1}\")\n",
    "        # Extract the text with bounding boxes\n",
    "        for element in page.extract_words():\n",
    "            text = element['text']\n",
    "            x0, y0, x1, y1 = element['x0'], element['top'], element['x1'], element['bottom']\n",
    "            data.append([page_num + 1, text, x0, y0, x1, y1])\n",
    "\n",
    "    # Convert the list to a DataFrame\n",
    "    df = pd.DataFrame(data, columns=['Page', 'Text', 'X0', 'Y0', 'X1', 'Y1'])\n",
    "    # Save the DataFrame to a CSV file\n",
    "    df.to_csv('extracted_text.csv', index=False)\n",
    "\n",
    "\n",
    "gridlines = {\n",
    "    52.92000: \"plate\",\n",
    "    121.39472: \"vrm\",\n",
    "    220.56000: \"make\",\n",
    "    312.33007: \"model\",\n",
    "    414.67504: \"license_start\",\n",
    "    478.32001: \"license_end\"\n",
    "}\n"
   ]
  },
  {
   "cell_type": "code",
   "execution_count": 2,
   "metadata": {},
   "outputs": [
    {
     "name": "stderr",
     "output_type": "stream",
     "text": [
      "/var/folders/8j/qdfkl38s5p11l966skbxw4300000gn/T/ipykernel_73866/3951864876.py:13: FutureWarning: Series.fillna with 'method' is deprecated and will raise in a future version. Use obj.ffill() or obj.bfill() instead.\n",
      "  df[\"value\"] = df[\"value\"].fillna(method='ffill')\n"
     ]
    }
   ],
   "source": [
    "\n",
    "gridlines = {\n",
    "    53: \"plate\",\n",
    "    121: \"vrm\",\n",
    "    221: \"make\",\n",
    "    312: \"model\",\n",
    "    419: \"license_start\",\n",
    "    483: \"license_end\"\n",
    "}\n",
    "\n",
    "first_value = \"PHV3429\"\n",
    "\n",
    "df[\"value\"] = df['X0'].apply(lambda x: gridlines.get(round(x, 0), None))\n",
    "df[\"value\"] = df[\"value\"].fillna(method='ffill')"
   ]
  },
  {
   "cell_type": "code",
   "execution_count": 3,
   "metadata": {},
   "outputs": [],
   "source": [
    "df[24:].to_csv(\"test.csv\")"
   ]
  },
  {
   "cell_type": "code",
   "execution_count": 4,
   "metadata": {},
   "outputs": [],
   "source": [
    "df_reduced = df[24:][[\"Text\", \"value\"]].reset_index(drop=True)"
   ]
  },
  {
   "cell_type": "code",
   "execution_count": 5,
   "metadata": {},
   "outputs": [],
   "source": [
    "df_reduced.to_csv(\"df_reduced.csv\", index=False)"
   ]
  },
  {
   "cell_type": "code",
   "execution_count": 8,
   "metadata": {},
   "outputs": [
    {
     "data": {
      "text/html": [
       "<div>\n",
       "<style scoped>\n",
       "    .dataframe tbody tr th:only-of-type {\n",
       "        vertical-align: middle;\n",
       "    }\n",
       "\n",
       "    .dataframe tbody tr th {\n",
       "        vertical-align: top;\n",
       "    }\n",
       "\n",
       "    .dataframe thead th {\n",
       "        text-align: right;\n",
       "    }\n",
       "</style>\n",
       "<table border=\"1\" class=\"dataframe\">\n",
       "  <thead>\n",
       "    <tr style=\"text-align: right;\">\n",
       "      <th></th>\n",
       "      <th>Text</th>\n",
       "      <th>value</th>\n",
       "    </tr>\n",
       "  </thead>\n",
       "  <tbody>\n",
       "    <tr>\n",
       "      <th>0</th>\n",
       "      <td>PHV3429</td>\n",
       "      <td>plate</td>\n",
       "    </tr>\n",
       "    <tr>\n",
       "      <th>1</th>\n",
       "      <td>SF64</td>\n",
       "      <td>vrm</td>\n",
       "    </tr>\n",
       "    <tr>\n",
       "      <th>2</th>\n",
       "      <td>FVE</td>\n",
       "      <td>vrm</td>\n",
       "    </tr>\n",
       "    <tr>\n",
       "      <th>3</th>\n",
       "      <td>Peugeot</td>\n",
       "      <td>make</td>\n",
       "    </tr>\n",
       "    <tr>\n",
       "      <th>4</th>\n",
       "      <td>Independence</td>\n",
       "      <td>model</td>\n",
       "    </tr>\n",
       "    <tr>\n",
       "      <th>...</th>\n",
       "      <td>...</td>\n",
       "      <td>...</td>\n",
       "    </tr>\n",
       "    <tr>\n",
       "      <th>4410</th>\n",
       "      <td>ATV</td>\n",
       "      <td>vrm</td>\n",
       "    </tr>\n",
       "    <tr>\n",
       "      <th>4411</th>\n",
       "      <td>Peugeot</td>\n",
       "      <td>make</td>\n",
       "    </tr>\n",
       "    <tr>\n",
       "      <th>4412</th>\n",
       "      <td>Horizon</td>\n",
       "      <td>model</td>\n",
       "    </tr>\n",
       "    <tr>\n",
       "      <th>4413</th>\n",
       "      <td>10/02/2024</td>\n",
       "      <td>license_start</td>\n",
       "    </tr>\n",
       "    <tr>\n",
       "      <th>4414</th>\n",
       "      <td>09/02/2025</td>\n",
       "      <td>license_end</td>\n",
       "    </tr>\n",
       "  </tbody>\n",
       "</table>\n",
       "<p>4415 rows × 2 columns</p>\n",
       "</div>"
      ],
      "text/plain": [
       "              Text          value\n",
       "0          PHV3429          plate\n",
       "1             SF64            vrm\n",
       "2              FVE            vrm\n",
       "3          Peugeot           make\n",
       "4     Independence          model\n",
       "...            ...            ...\n",
       "4410           ATV            vrm\n",
       "4411       Peugeot           make\n",
       "4412       Horizon          model\n",
       "4413    10/02/2024  license_start\n",
       "4414    09/02/2025    license_end\n",
       "\n",
       "[4415 rows x 2 columns]"
      ]
     },
     "execution_count": 8,
     "metadata": {},
     "output_type": "execute_result"
    }
   ],
   "source": [
    "df_reduced"
   ]
  },
  {
   "cell_type": "code",
   "execution_count": 9,
   "metadata": {},
   "outputs": [],
   "source": [
    "new_value_column = []\n",
    "new_text_column = []\n",
    "\n",
    "# Iterate over the dataframe to concatenate values\n",
    "current_value = None\n",
    "current_text = \"\"\n",
    "\n",
    "for value, text in zip(df_reduced['value'], df_reduced['Text']):\n",
    "    if value == current_value:\n",
    "        current_text += text + \" \"\n",
    "    else:\n",
    "        if current_value is not None:\n",
    "            new_value_column.append(current_value)\n",
    "            new_text_column.append(current_text.strip())\n",
    "        current_value = value\n",
    "        current_text = text\n",
    "\n",
    "# Append the last accumulated values\n",
    "if current_value is not None:\n",
    "    new_value_column.append(current_value)\n",
    "    new_text_column.append(current_text.strip())\n",
    "\n",
    "# Create a new DataFrame with the concatenated values\n",
    "new_df = pd.DataFrame({\n",
    "    'value': new_value_column,\n",
    "    'text': new_text_column\n",
    "})"
   ]
  },
  {
   "cell_type": "code",
   "execution_count": null,
   "metadata": {},
   "outputs": [],
   "source": []
  },
  {
   "cell_type": "code",
   "execution_count": 7,
   "metadata": {},
   "outputs": [],
   "source": [
    "new_df.to_csv(\"inspection.csv\")"
   ]
  },
  {
   "cell_type": "code",
   "execution_count": null,
   "metadata": {},
   "outputs": [],
   "source": []
  }
 ],
 "metadata": {
  "kernelspec": {
   "display_name": "venv",
   "language": "python",
   "name": "python3"
  },
  "language_info": {
   "codemirror_mode": {
    "name": "ipython",
    "version": 3
   },
   "file_extension": ".py",
   "mimetype": "text/x-python",
   "name": "python",
   "nbconvert_exporter": "python",
   "pygments_lexer": "ipython3",
   "version": "3.11.5"
  }
 },
 "nbformat": 4,
 "nbformat_minor": 2
}
